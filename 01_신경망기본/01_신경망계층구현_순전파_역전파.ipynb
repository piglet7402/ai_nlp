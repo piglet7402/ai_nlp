{
 "cells": [
  {
   "cell_type": "markdown",
   "metadata": {},
   "source": [
    "### 신경망 연산 기본"
   ]
  },
  {
   "cell_type": "code",
   "execution_count": 1,
   "metadata": {},
   "outputs": [
    {
     "data": {
      "text/plain": [
       "array([[0.56072198, 0.1642451 ],\n",
       "       [0.697042  , 0.76023041],\n",
       "       [0.81780103, 0.23735649],\n",
       "       [0.53435074, 0.90193452],\n",
       "       [0.99517461, 0.84116169],\n",
       "       [0.29218262, 0.61265732],\n",
       "       [0.10066718, 0.88595677],\n",
       "       [0.07039819, 0.00448016],\n",
       "       [0.38662742, 0.61598107],\n",
       "       [0.79342542, 0.561246  ]])"
      ]
     },
     "execution_count": 1,
     "metadata": {},
     "output_type": "execute_result"
    }
   ],
   "source": [
    "import numpy as np\n",
    "\n",
    "X = np.random.rand(10,2)\n",
    "X"
   ]
  },
  {
   "cell_type": "code",
   "execution_count": 2,
   "metadata": {},
   "outputs": [
    {
     "data": {
      "text/plain": [
       "array([[0.44800455, 0.90757184, 0.20854743, 0.796043  ],\n",
       "       [0.96910889, 0.15116446, 0.0503398 , 0.5794947 ]])"
      ]
     },
     "execution_count": 2,
     "metadata": {},
     "output_type": "execute_result"
    }
   ],
   "source": [
    "W1 = np.random.rand(2,4)\n",
    "W1"
   ]
  },
  {
   "cell_type": "code",
   "execution_count": 3,
   "metadata": {},
   "outputs": [
    {
     "data": {
      "text/plain": [
       "array([0.872315  , 0.767914  , 0.94586721, 0.66314301])"
      ]
     },
     "execution_count": 3,
     "metadata": {},
     "output_type": "execute_result"
    }
   ],
   "source": [
    "b1 = np.random.rand(4)\n",
    "b1"
   ]
  },
  {
   "cell_type": "code",
   "execution_count": 4,
   "metadata": {},
   "outputs": [
    {
     "data": {
      "text/plain": [
       "array([[1.28269239, 1.3016375 , 1.07107241, 1.20468099],\n",
       "       [1.92133903, 1.5154495 , 1.12950338, 1.65856791],\n",
       "       [1.46871787, 1.54600705, 1.128366  , 1.45169463],\n",
       "       [1.98577932, 1.38921612, 1.10270789, 1.61117546],\n",
       "       [2.13333502, 1.7982602 , 1.19575224, 1.94279354],\n",
       "       [1.5969458 , 1.12570273, 1.0376422 , 1.25076462],\n",
       "       [1.77600293, 0.99320187, 1.01145998, 1.25668567],\n",
       "       [0.90819548, 0.83248266, 0.96077411, 0.72177923],\n",
       "       [1.64247858, 1.2119206 , 1.05750574, 1.32787283],\n",
       "       [1.77168168, 1.57284501, 1.13958706, 1.61998285]])"
      ]
     },
     "execution_count": 4,
     "metadata": {},
     "output_type": "execute_result"
    }
   ],
   "source": [
    "H = np.matmul(X,W1) + b1\n",
    "H"
   ]
  },
  {
   "cell_type": "markdown",
   "metadata": {},
   "source": [
    "### 시그모이드 함수"
   ]
  },
  {
   "cell_type": "code",
   "execution_count": 5,
   "metadata": {},
   "outputs": [],
   "source": [
    "def sigmoid(x):\n",
    "    return 1 / (1 + np.exp(-x))"
   ]
  },
  {
   "cell_type": "code",
   "execution_count": 7,
   "metadata": {},
   "outputs": [
    {
     "data": {
      "image/png": "[encoded data removed]",
      "text/plain": [
       "<Figure size 432x288 with 1 Axes>"
      ]
     },
     "metadata": {
      "needs_background": "light"
     },
     "output_type": "display_data"
    }
   ],
   "source": [
    "import matplotlib.pyplot as plt\n",
    "zs = np.arange(-10,10,0.1)\n",
    "gs = [sigmoid(z) for z in zs]\n",
    "plt.plot(zs,gs)\n",
    "plt.xlabel('z')  # z= -(XW + b)\n",
    "plt.ylabel('1/(1+e^z)')\n",
    "plt.grid(True)\n",
    "plt.show()"
   ]
  },
  {
   "cell_type": "code",
   "execution_count": 8,
   "metadata": {
    "collapsed": true
   },
   "outputs": [
    {
     "data": {
      "text/plain": [
       "array([[0.75884022, 0.66881294, 0.72688208, 0.63639425],\n",
       "       [0.75593759, 0.6886441 , 0.72667928, 0.65763395],\n",
       "       [0.82121419, 0.76122144, 0.76979102, 0.70111041],\n",
       "       [0.78078006, 0.70305558, 0.7416113 , 0.66033369],\n",
       "       [0.73460654, 0.66911886, 0.71372955, 0.64790292],\n",
       "       [0.74751587, 0.68437247, 0.72177517, 0.65722379],\n",
       "       [0.76715193, 0.71903515, 0.73509542, 0.68326679],\n",
       "       [0.75564703, 0.69516384, 0.72698957, 0.66432366],\n",
       "       [0.75622739, 0.7083567 , 0.72827406, 0.67737355],\n",
       "       [0.77859723, 0.69162968, 0.73956135, 0.64972424]])"
      ]
     },
     "execution_count": 8,
     "metadata": {},
     "output_type": "execute_result"
    }
   ],
   "source": [
    "# 1 layer logistic Regression(Binary Classification), 2진 분류\n",
    "X = np.random.rand(10,2)\n",
    "W1 = np.random.rand(2,4)\n",
    "b1 = np.random.rand(4)\n",
    "\n",
    "a = np.matmul(X,W1) + b1\n",
    "h = sigmoid(a)\n",
    "h"
   ]
  },
  {
   "cell_type": "code",
   "execution_count": 9,
   "metadata": {},
   "outputs": [
    {
     "data": {
      "text/plain": [
       "array([[0.89490456, 0.94937478, 0.91582627],\n",
       "       [0.89958087, 0.95566333, 0.92203776],\n",
       "       [0.91010322, 0.95851027, 0.92888067],\n",
       "       [0.90839722, 0.955187  , 0.92598151],\n",
       "       [0.90333297, 0.95393335, 0.92273878],\n",
       "       [0.90928441, 0.95667253, 0.92733043],\n",
       "       [0.89149137, 0.94694422, 0.9126759 ],\n",
       "       [0.91088216, 0.95878261, 0.92942776],\n",
       "       [0.90256191, 0.95530914, 0.92322881],\n",
       "       [0.89925734, 0.94968697, 0.91815136]])"
      ]
     },
     "execution_count": 9,
     "metadata": {},
     "output_type": "execute_result"
    }
   ],
   "source": [
    "# 2 layers logistic Regression(Binary Classification)\n",
    "X = np.random.rand(10,2)\n",
    "W1 = np.random.rand(2,4)\n",
    "b1 = np.random.rand(4)\n",
    "\n",
    "W2 = np.random.rand(4,3)\n",
    "b2 = np.random.rand(3)\n",
    "\n",
    "# layer1\n",
    "a1 = np.matmul(X,W1) + b1   # (10,2) * (2,4) = (10,4)\n",
    "s1 = sigmoid(a1)            # (10,4)\n",
    "\n",
    "# layer2\n",
    "a2 = np.matmul(s1,W2) + b2  # (10,4) * (4,3) = (10,3)\n",
    "h = sigmoid(a2)             # (10,3)\n",
    "h"
   ]
  },
  {
   "cell_type": "markdown",
   "metadata": {},
   "source": [
    "### 계층을 클래스로 구현: 순전파 구현"
   ]
  },
  {
   "cell_type": "code",
   "execution_count": 10,
   "metadata": {},
   "outputs": [],
   "source": [
    "class Sigmoid:\n",
    "    def __init__(self):\n",
    "        self.params = []\n",
    "        \n",
    "    def forward(self,x):\n",
    "        return 1 / (1 + np.exp(-x))\n",
    "\n",
    "class Affine :  # 행렬의 내적을 아핀(Affine) 변환이라고 한다\n",
    "    def __init__(self,W,b):\n",
    "        self.params = [W,b]\n",
    "        \n",
    "    def forward(self,x):\n",
    "        W,b = self.params\n",
    "        out = np.dot(x,W) + b\n",
    "        return out"
   ]
  },
  {
   "cell_type": "code",
   "execution_count": 15,
   "metadata": {},
   "outputs": [
    {
     "data": {
      "text/plain": [
       "[array([[0.29308996, 0.88309815, 0.84478148, 0.31318565],\n",
       "        [0.62346992, 0.26764205, 0.77659674, 0.72002671]]),\n",
       " array([0.03556427, 0.30749246, 0.99531552, 0.15952517]),\n",
       " array([[0.09293061, 0.09391392, 0.61074149],\n",
       "        [0.68106127, 0.78511433, 0.37816113],\n",
       "        [0.41861759, 0.68076228, 0.94473821],\n",
       "        [0.9225518 , 0.37609502, 0.61367837]]),\n",
       " array([0.77461112, 0.19758731, 0.89009381])]"
      ]
     },
     "execution_count": 15,
     "metadata": {},
     "output_type": "execute_result"
    }
   ],
   "source": [
    "class TwoLayerNet:\n",
    "    def __init__(self,input_size,hidden_size,output_size):\n",
    "        I, H, O = input_size,hidden_size,output_size\n",
    "        \n",
    "        # Weight 과 bias 초기화\n",
    "        W1 = np.random.rand(I,H)\n",
    "        b1 = np.random.rand(H)\n",
    "        \n",
    "        W2 = np.random.rand(H,O)\n",
    "        b2 = np.random.rand(O)\n",
    "        \n",
    "        # 계층 생성\n",
    "        self.layers = [\n",
    "            Affine(W1,b1),\n",
    "            Sigmoid(),\n",
    "            Affine(W2,b2),\n",
    "            Sigmoid()\n",
    "        ]\n",
    "        \n",
    "        self.params = []\n",
    "        for layer in self.layers:\n",
    "            self.params += layer.params\n",
    "            \n",
    "    def predict(self,x):\n",
    "        for layer in self.layers:\n",
    "            x = layer.forward(x)\n",
    "        return x\n",
    "\n",
    "t = TwoLayerNet(2,4,3)        \n",
    "t.params       "
   ]
  },
  {
   "cell_type": "code",
   "execution_count": 14,
   "metadata": {},
   "outputs": [
    {
     "data": {
      "text/plain": [
       "['W1', 'b1', 'W2', 'b2']"
      ]
     },
     "execution_count": 14,
     "metadata": {},
     "output_type": "execute_result"
    }
   ],
   "source": [
    "#  # 모든 가중치를 리스트에 모은다.\n",
    "#         self.params = []\n",
    "#         for layer in self.layers:\n",
    "#             self.params += layer.params\n",
    "# 위 코드 설명: 누적 덧셈\n",
    "a = ['W1', 'b1']\n",
    "a += ['W2', 'b2']\n",
    "a"
   ]
  },
  {
   "cell_type": "code",
   "execution_count": 16,
   "metadata": {},
   "outputs": [
    {
     "name": "stdout",
     "output_type": "stream",
     "text": [
      "[[0.8247934  0.83957556 0.88050407]\n",
      " [0.85253972 0.86502622 0.9049368 ]\n",
      " [0.85201929 0.86207832 0.90209186]\n",
      " [0.85211121 0.86375624 0.90371954]\n",
      " [0.8567592  0.8659086  0.90569563]\n",
      " [0.8645662  0.87293995 0.91226775]\n",
      " [0.8620595  0.87100127 0.91046591]\n",
      " [0.87071177 0.8777755  0.91674572]\n",
      " [0.86000335 0.86990246 0.90944959]\n",
      " [0.85659961 0.86820775 0.90789544]] (10, 3)\n"
     ]
    }
   ],
   "source": [
    "X = np.random.rand(10,2)\n",
    "model = TwoLayerNet(2,4,3)\n",
    "# 여기에서는 학습 수행 부분은 없음\n",
    "# random 값을 그대로 가중치(파라메터)로 사용\n",
    "s = model.predict(X)\n",
    "print(s,s.shape)"
   ]
  },
  {
   "cell_type": "markdown",
   "metadata": {},
   "source": [
    "### MatMul 노드"
   ]
  },
  {
   "cell_type": "code",
   "execution_count": 17,
   "metadata": {},
   "outputs": [],
   "source": [
    "class Matmul:\n",
    "    def __init__(self,W):\n",
    "        self.params = [W]\n",
    "        self.grads = [np.zeros_like(W)]\n",
    "        self.x = None\n",
    "    \n",
    "    # 순전파\n",
    "    def forward(self,x):\n",
    "        W, = self.params\n",
    "        out = np.dot(x,W)\n",
    "        self.x = x\n",
    "        return out\n",
    "    \n",
    "    # 역전파\n",
    "    def backward(self,dout):\n",
    "        W, = self.params\n",
    "        x = self.x\n",
    "        dx = np.dot(dout,W.T)\n",
    "        dW = np.dot(x.T,dout)\n",
    "        self.grads[0][...] = dW   # 깊은 복사\n",
    "        return dx"
   ]
  },
  {
   "cell_type": "code",
   "execution_count": 18,
   "metadata": {},
   "outputs": [
    {
     "name": "stdout",
     "output_type": "stream",
     "text": [
      "[4 5 6]\n"
     ]
    },
    {
     "data": {
      "text/plain": [
       "True"
      ]
     },
     "execution_count": 18,
     "metadata": {},
     "output_type": "execute_result"
    }
   ],
   "source": [
    "a = np.array([1, 2, 3])\n",
    "b = np.array([4, 5, 6])\n",
    "a = b\n",
    "print(a)\n",
    "id(a) == id(b)"
   ]
  },
  {
   "cell_type": "code",
   "execution_count": 19,
   "metadata": {},
   "outputs": [
    {
     "name": "stdout",
     "output_type": "stream",
     "text": [
      "[4 5 6]\n"
     ]
    },
    {
     "data": {
      "text/plain": [
       "False"
      ]
     },
     "execution_count": 19,
     "metadata": {},
     "output_type": "execute_result"
    }
   ],
   "source": [
    "a = np.array([1, 2, 3])\n",
    "b = np.array([4, 5, 6])\n",
    "a[...] = b \n",
    "print(a)\n",
    "id(a) == id(b)"
   ]
  },
  {
   "cell_type": "code",
   "execution_count": 21,
   "metadata": {},
   "outputs": [
    {
     "data": {
      "text/plain": [
       "array([[1, 1, 1, 1],\n",
       "       [1, 1, 1, 1],\n",
       "       [1, 1, 1, 1]])"
      ]
     },
     "execution_count": 21,
     "metadata": {},
     "output_type": "execute_result"
    }
   ],
   "source": [
    "# np.zeros_like\n",
    "a = np.arange(12).reshape(3,4)\n",
    "b = np.zeros_like(a)\n",
    "b"
   ]
  },
  {
   "cell_type": "markdown",
   "metadata": {},
   "source": [
    "## 시그모이드 계층 : 역전파"
   ]
  },
  {
   "cell_type": "code",
   "execution_count": 22,
   "metadata": {},
   "outputs": [],
   "source": [
    "class Sigmoid:\n",
    "    def __init__(self):\n",
    "        self.params,self.grads = [],[]\n",
    "        self.out = None\n",
    "        \n",
    "    # 순전파    \n",
    "    def forward(self,x):\n",
    "        out = 1 / (1 + np.exp(-x))\n",
    "        self.out = out\n",
    "        return out\n",
    "    \n",
    "    # 역전파\n",
    "    def backward(self,dout):\n",
    "        dx = dout*self.out*(1 - self.out)  # y = sigmoid(x), y'= y*(1 - y) : sigmoid의 미분\n",
    "        return dx"
   ]
  },
  {
   "cell_type": "markdown",
   "metadata": {},
   "source": [
    "## Affine 계층 : 역전파"
   ]
  },
  {
   "cell_type": "code",
   "execution_count": 24,
   "metadata": {},
   "outputs": [],
   "source": [
    "class Affine :  \n",
    "    def __init__(self,W,b):\n",
    "        self.params = [W,b]\n",
    "        self.grads = [np.zeros_like(W),np.zeros_like(b)]\n",
    "        self.x = None\n",
    "    \n",
    "    # 순전파\n",
    "    def forward(self,x):\n",
    "        W,b = self.params\n",
    "        out = np.dot(x,W) + b\n",
    "        self.x = x\n",
    "        return out\n",
    "    \n",
    "    # 역전파\n",
    "    def backward(self,dout):\n",
    "        W,b = self.params\n",
    "        x = self.x\n",
    "        dx = np.dot(dout,W.T)\n",
    "        dW = np.dot(x.T,dout)\n",
    "        db = np.sum(dout,axis = 0)\n",
    "        \n",
    "        self.grads[0][...] = dW\n",
    "        self.grads[1][...] = db\n",
    "        return dx       "
   ]
  },
  {
   "cell_type": "markdown",
   "metadata": {},
   "source": [
    "## Softmax with Loss 계층"
   ]
  },
  {
   "cell_type": "code",
   "execution_count": 25,
   "metadata": {},
   "outputs": [],
   "source": [
    "class SoftmaxWithLoss:\n",
    "    def __init__(self):\n",
    "        self.params,self.grads = [], []\n",
    "        self.y = None    # softmax의 출력 값\n",
    "        self.t = None    # 정답 레이블\n",
    "        \n",
    "    def softmax(self,x):\n",
    "        if x.ndim == 2:\n",
    "            x = x - x.max(axis=1, keepdims=True)\n",
    "            x = np.exp(x)\n",
    "            x /= x.sum(axis=1, keepdims=True)\n",
    "        elif x.ndim == 1:\n",
    "            x = x - np.max(x)\n",
    "            x = np.exp(x) / np.sum(np.exp(x))\n",
    "        return x \n",
    "    \n",
    "    # https://smile2x.tistory.com/entry/softmax-crossentropy-%EC%97%90-%EB%8C%80%ED%95%98%EC%97%AC \n",
    "    def cross_entropy_error(self,y, t):  \n",
    "        if y.ndim == 1:\n",
    "            t = t.reshape(1, t.size)\n",
    "            y = y.reshape(1, y.size)\n",
    "\n",
    "        # 정답 데이터가 원핫 벡터일 경우 정답 레이블 인덱스로 변환\n",
    "        if t.size == y.size:\n",
    "            t = t.argmax(axis=1)\n",
    "\n",
    "        batch_size = y.shape[0]\n",
    "\n",
    "        return -np.sum(np.log(y[np.arange(batch_size), t] + 1e-7)) / batch_size  # 1e-7은 log(0)으로 무한대가 나오는걸 방지\n",
    "          \n",
    "    \n",
    "    def forward(self, x, t):\n",
    "        self.t = t\n",
    "        self.y = self.softmax(x)\n",
    "\n",
    "        # 정답 레이블이 원핫 벡터일 경우 정답의 인덱스로 변환\n",
    "        if self.t.size == self.y.size:\n",
    "            self.t = self.t.argmax(axis=1)\n",
    "\n",
    "        loss = self.cross_entropy_error(self.y, self.t)\n",
    "        return loss\n",
    "     \n",
    "    def backward(self,dout=1):\n",
    "        batch_size = self.t.shape[0]\n",
    "\n",
    "        # dx = (self.y - self.t)/batch_size # 순수 Softmax계층 일경우\n",
    "        \n",
    "        dx = self.y.copy()\n",
    "        dx[np.arange(batch_size), self.t] -= 1\n",
    "        dx *= dout\n",
    "        dx = dx / batch_size\n",
    "        return dx"
   ]
  },
  {
   "cell_type": "markdown",
   "metadata": {},
   "source": [
    "## 가중치 갱신"
   ]
  },
  {
   "cell_type": "code",
   "execution_count": 27,
   "metadata": {},
   "outputs": [],
   "source": [
    "# 확률적 경사하강법(Stochastic Gradient Descent)\n",
    "class SGD:\n",
    "    def __init__(self,lr=0.01):\n",
    "        self.lr = lr\n",
    "    \n",
    "    def update(self,params,grads):\n",
    "        for i in range(len(params)):\n",
    "            params[i] -= self.lr*grads[i]   "
   ]
  },
  {
   "cell_type": "code",
   "execution_count": 28,
   "metadata": {},
   "outputs": [],
   "source": [
    "class Adam:\n",
    "    '''\n",
    "    Adam (http://arxiv.org/abs/1412.6980v8)\n",
    "    \n",
    "    '''\n",
    "    def __init__(self, lr=0.001, beta1=0.9, beta2=0.999):\n",
    "        self.lr = lr\n",
    "        self.beta1 = beta1\n",
    "        self.beta2 = beta2\n",
    "        self.iter = 0\n",
    "        self.m = None\n",
    "        self.v = None\n",
    "        \n",
    "    def update(self, params, grads):\n",
    "        if self.m is None:\n",
    "            self.m, self.v = [], []\n",
    "            for param in params:\n",
    "                self.m.append(np.zeros_like(param))\n",
    "                self.v.append(np.zeros_like(param))\n",
    "        \n",
    "        self.iter += 1\n",
    "        lr_t = self.lr * np.sqrt(1.0 - self.beta2**self.iter) / (1.0 - self.beta1**self.iter)\n",
    "\n",
    "        for i in range(len(params)):\n",
    "            self.m[i] += (1 - self.beta1) * (grads[i] - self.m[i])\n",
    "            self.v[i] += (1 - self.beta2) * (grads[i]**2 - self.v[i])\n",
    "            \n",
    "            params[i] -= lr_t * self.m[i] / (np.sqrt(self.v[i]) + 1e-7)\n",
    "            \n",
    "# https://dalpo0814.tistory.com/29"
   ]
  },
  {
   "cell_type": "code",
   "execution_count": null,
   "metadata": {},
   "outputs": [],
   "source": []
  }
 ],
 "metadata": {
  "kernelspec": {
   "display_name": "Python 3",
   "language": "python",
   "name": "python3"
  },
  "language_info": {
   "codemirror_mode": {
    "name": "ipython",
    "version": 3
   },
   "file_extension": ".py",
   "mimetype": "text/x-python",
   "name": "python",
   "nbconvert_exporter": "python",
   "pygments_lexer": "ipython3",
   "version": "3.7.7"
  }
 },
 "nbformat": 4,
 "nbformat_minor": 4
}
